{
 "cells": [
  {
   "cell_type": "code",
   "execution_count": 1,
   "metadata": {
    "colab": {
     "base_uri": "https://localhost:8080/"
    },
    "id": "qv8COpHbOXl4",
    "outputId": "c5c816bc-755b-46ab-cc54-c54d9494c382"
   },
   "outputs": [
    {
     "name": "stdout",
     "output_type": "stream",
     "text": [
      "Masukkan teks untuk dienkripsi: imamsolehudin\n",
      "Masukkan kunci enkripsi (kata kunci): pelitabangsa\n",
      "\n",
      "Teks Awal: imamsolehudin\n",
      "Teks Terenkripsi: xqlulomeuavic\n",
      "Teks Terdekripsi: imamsolehudin\n"
     ]
    }
   ],
   "source": [
    "def polyalphabet_cipher_encrypt(plain_text, key):\n",
    "    encrypted_text = \"\"\n",
    "    key_length = len(key)\n",
    "\n",
    "    for i in range(len(plain_text)):\n",
    "        char = plain_text[i]\n",
    "        if char.isalpha():\n",
    "            start = ord('a') if char.islower() else ord('A')\n",
    "            key_char = key[i % key_length]\n",
    "            key_shift = ord(key_char) - ord('a') if key_char.islower() else ord(key_char) - ord('A')\n",
    "            encrypted_text += chr((ord(char) - start + key_shift) % 26 + start)\n",
    "        else:\n",
    "            encrypted_text += char\n",
    "\n",
    "    return encrypted_text\n",
    "\n",
    "def polyalphabet_cipher_decrypt(encrypted_text, key):\n",
    "    decrypted_text = \"\"\n",
    "    key_length = len(key)\n",
    "\n",
    "    for i in range(len(encrypted_text)):\n",
    "        char = encrypted_text[i]\n",
    "        if char.isalpha():\n",
    "            start = ord('a') if char.islower() else ord('A')\n",
    "            key_char = key[i % key_length]\n",
    "            key_shift = ord(key_char) - ord('a') if key_char.islower() else ord(key_char) - ord('A')\n",
    "            decrypted_text += chr((ord(char) - start - key_shift) % 26 + start)\n",
    "        else:\n",
    "            decrypted_text += char\n",
    "\n",
    "    return decrypted_text\n",
    "\n",
    "def main():\n",
    "    # Mengambil input dari pengguna\n",
    "    text = input(\"Masukkan teks untuk dienkripsi: \")\n",
    "    key = input(\"Masukkan kunci enkripsi (kata kunci): \")\n",
    "\n",
    "    # Mengenkripsi dan mendekripsi teks\n",
    "    encrypted_text = polyalphabet_cipher_encrypt(text, key)\n",
    "    decrypted_text = polyalphabet_cipher_decrypt(encrypted_text, key)\n",
    "\n",
    "    # Menampilkan hasil\n",
    "    print(\"\\nTeks Awal:\", text)\n",
    "    print(\"Teks Terenkripsi:\", encrypted_text)\n",
    "    print(\"Teks Terdekripsi:\", decrypted_text)\n",
    "\n",
    "if __name__ == \"__main__\":\n",
    "    main()\n"
   ]
  },
  {
   "cell_type": "code",
   "execution_count": null,
   "metadata": {},
   "outputs": [],
   "source": []
  }
 ],
 "metadata": {
  "colab": {
   "provenance": []
  },
  "kernelspec": {
   "display_name": "Python 3 (ipykernel)",
   "language": "python",
   "name": "python3"
  },
  "language_info": {
   "codemirror_mode": {
    "name": "ipython",
    "version": 3
   },
   "file_extension": ".py",
   "mimetype": "text/x-python",
   "name": "python",
   "nbconvert_exporter": "python",
   "pygments_lexer": "ipython3",
   "version": "3.11.5"
  }
 },
 "nbformat": 4,
 "nbformat_minor": 1
}
