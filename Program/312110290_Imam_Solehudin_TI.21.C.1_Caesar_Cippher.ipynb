{
 "cells": [
  {
   "cell_type": "code",
   "execution_count": 1,
   "metadata": {
    "colab": {
     "base_uri": "https://localhost:8080/"
    },
    "id": "QF37nwntIob_",
    "outputId": "eb2d043e-74c5-4f4b-a65e-25e2afa31b1e"
   },
   "outputs": [
    {
     "name": "stdout",
     "output_type": "stream",
     "text": [
      "Masukkan teks untuk dienkripsi: IMAMSOLEHUDIN\n",
      "Masukkan jumlah pergeseran (angka bulat): 4\n",
      "\n",
      "Teks Awal: IMAMSOLEHUDIN\n",
      "Teks Terenkripsi: MQEQWSPILYHMR\n",
      "Teks Terdekripsi: IMAMSOLEHUDIN\n"
     ]
    }
   ],
   "source": [
    "#Caesar Cippher\n",
    "\n",
    "def caesar_cipher_encrypt(plain_text, shift):\n",
    "    encrypted_text = \"\"\n",
    "    for char in plain_text:\n",
    "        if char.isalpha():\n",
    "            start = ord('a') if char.islower() else ord('A')\n",
    "            encrypted_text += chr((ord(char) - start + shift) % 26 + start)\n",
    "        else:\n",
    "            encrypted_text += char\n",
    "    return encrypted_text\n",
    "\n",
    "def caesar_cipher_decrypt(encrypted_text, shift):\n",
    "    return caesar_cipher_encrypt(encrypted_text, -shift)\n",
    "\n",
    "def main():\n",
    "    # Mengambil input dari pengguna\n",
    "    text = input(\"Masukkan teks untuk dienkripsi: \")\n",
    "    shift = int(input(\"Masukkan jumlah pergeseran (angka bulat): \"))\n",
    "\n",
    "    # Mengenkripsi dan mendekripsi teks\n",
    "    encrypted_text = caesar_cipher_encrypt(text, shift)\n",
    "    decrypted_text = caesar_cipher_decrypt(encrypted_text, shift)\n",
    "\n",
    "    # Menampilkan hasil\n",
    "    print(\"\\nTeks Awal:\", text)\n",
    "    print(\"Teks Terenkripsi:\", encrypted_text)\n",
    "    print(\"Teks Terdekripsi:\", decrypted_text)\n",
    "\n",
    "if __name__ == \"__main__\":\n",
    "    main()\n"
   ]
  },
  {
   "cell_type": "code",
   "execution_count": null,
   "metadata": {},
   "outputs": [],
   "source": []
  }
 ],
 "metadata": {
  "colab": {
   "provenance": []
  },
  "kernelspec": {
   "display_name": "Python 3 (ipykernel)",
   "language": "python",
   "name": "python3"
  },
  "language_info": {
   "codemirror_mode": {
    "name": "ipython",
    "version": 3
   },
   "file_extension": ".py",
   "mimetype": "text/x-python",
   "name": "python",
   "nbconvert_exporter": "python",
   "pygments_lexer": "ipython3",
   "version": "3.11.5"
  }
 },
 "nbformat": 4,
 "nbformat_minor": 1
}
