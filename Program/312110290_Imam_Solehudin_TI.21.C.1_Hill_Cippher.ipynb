{
 "cells": [
  {
   "cell_type": "code",
   "execution_count": 1,
   "metadata": {
    "colab": {
     "base_uri": "https://localhost:8080/"
    },
    "id": "yqFOi0kTKRe5",
    "outputId": "e987e1e4-c535-4ec8-a1c7-7dac98beddb7"
   },
   "outputs": [
    {
     "name": "stdout",
     "output_type": "stream",
     "text": [
      "Masukkan teks yang akan dienkripsi: imamsolehudin\n",
      "Masukkan kunci enkripsi (sebagai matriks 3x3, contoh: '2 4 7 9 6 15 1 8 12'): 8 5 9 6 5 7 1 3 2\n",
      "Teks terenkripsi: GWAKKCPSLEJJANN\n"
     ]
    }
   ],
   "source": [
    "import numpy as np\n",
    "\n",
    "def prepare_input(text):\n",
    "    matrix = []\n",
    "    for char in text:\n",
    "        if char.isalpha():\n",
    "            matrix.append(ord(char) - ord('A') if char.isupper() else ord(char) - ord('a'))\n",
    "\n",
    "    return np.array(matrix)\n",
    "\n",
    "def hill_encrypt(plain_text, key_matrix):\n",
    "    key_size = len(key_matrix)\n",
    "    plain_matrix = prepare_input(plain_text)\n",
    "\n",
    "    # Menambahkan padding dengan nilai 0 jika diperlukan\n",
    "    while len(plain_matrix) % key_size != 0:\n",
    "        plain_matrix = np.append(plain_matrix, [0])\n",
    "\n",
    "    # Mengubah matriks teks menjadi matriks terenkripsi menggunakan kunci\n",
    "    encrypted_matrix = np.dot(plain_matrix.reshape(-1, key_size), key_matrix) % 26\n",
    "\n",
    "    # Mengembalikan teks terenkripsi\n",
    "    return ''.join([chr(x % 26 + ord('A')) for x in encrypted_matrix.flatten()])\n",
    "\n",
    "def main():\n",
    "    plain_text = input(\"Masukkan teks yang akan dienkripsi: \")\n",
    "\n",
    "    # Memasukkan kunci enkripsi sebagai matriks 3x3\n",
    "    key_text = input(\"Masukkan kunci enkripsi (sebagai matriks 3x3, contoh: '2 4 7 9 6 15 1 8 12'): \")\n",
    "    key_values = [int(x) for x in key_text.split()]\n",
    "\n",
    "    # Validasi kunci\n",
    "    if len(key_values) != 9:\n",
    "        print(\"Error: Kunci harus berisi 9 nilai untuk matriks 3x3.\")\n",
    "        return\n",
    "\n",
    "    key_matrix = np.array(key_values).reshape(3, 3)\n",
    "\n",
    "    encrypted_text = hill_encrypt(plain_text, key_matrix)\n",
    "    print(\"Teks terenkripsi:\", encrypted_text)\n",
    "\n",
    "if __name__ == \"__main__\":\n",
    "    main()\n"
   ]
  },
  {
   "cell_type": "code",
   "execution_count": null,
   "metadata": {},
   "outputs": [],
   "source": []
  }
 ],
 "metadata": {
  "colab": {
   "provenance": []
  },
  "kernelspec": {
   "display_name": "Python 3 (ipykernel)",
   "language": "python",
   "name": "python3"
  },
  "language_info": {
   "codemirror_mode": {
    "name": "ipython",
    "version": 3
   },
   "file_extension": ".py",
   "mimetype": "text/x-python",
   "name": "python",
   "nbconvert_exporter": "python",
   "pygments_lexer": "ipython3",
   "version": "3.11.5"
  }
 },
 "nbformat": 4,
 "nbformat_minor": 1
}
